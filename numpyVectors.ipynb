{
 "cells": [
  {
   "cell_type": "code",
   "execution_count": 4,
   "id": "4777fd91",
   "metadata": {},
   "outputs": [],
   "source": [
    "import numpy as np"
   ]
  },
  {
   "cell_type": "code",
   "execution_count": 6,
   "id": "0c2d0ee8",
   "metadata": {},
   "outputs": [],
   "source": [
    "x=np.array([[1],[2],[3]])"
   ]
  },
  {
   "cell_type": "code",
   "execution_count": 7,
   "id": "c43dbd22",
   "metadata": {},
   "outputs": [
    {
     "data": {
      "text/plain": [
       "(3, 1)"
      ]
     },
     "execution_count": 7,
     "metadata": {},
     "output_type": "execute_result"
    }
   ],
   "source": [
    "x.shape"
   ]
  },
  {
   "cell_type": "code",
   "execution_count": 10,
   "id": "dce10883",
   "metadata": {},
   "outputs": [
    {
     "name": "stdout",
     "output_type": "stream",
     "text": [
      "a 3D vector: \n",
      "[[1]\n",
      " [2]\n",
      " [3]]\n"
     ]
    }
   ],
   "source": [
    "print(f\"a 3D vector: \\n{x}\")"
   ]
  },
  {
   "cell_type": "code",
   "execution_count": 14,
   "id": "6ddc963e",
   "metadata": {
    "scrolled": true
   },
   "outputs": [
    {
     "name": "stdout",
     "output_type": "stream",
     "text": [
      "[[3]\n",
      " [5]\n",
      " [9]]\n"
     ]
    }
   ],
   "source": [
    "y=np.array([[2],[3],[6]]);\n",
    "sums=x+y\n",
    "print(sums)"
   ]
  },
  {
   "cell_type": "code",
   "execution_count": 15,
   "id": "1dacfeb7",
   "metadata": {},
   "outputs": [
    {
     "data": {
      "text/plain": [
       "array([[3],\n",
       "       [5],\n",
       "       [9]])"
      ]
     },
     "execution_count": 15,
     "metadata": {},
     "output_type": "execute_result"
    }
   ],
   "source": [
    "np.add(y,x)"
   ]
  },
  {
   "cell_type": "code",
   "execution_count": 16,
   "id": "0e6804fc",
   "metadata": {},
   "outputs": [],
   "source": [
    "ar=[[1],[2],[3],[4]]\n",
    "br=[[3],[4],[5],[7]]"
   ]
  },
  {
   "cell_type": "code",
   "execution_count": 18,
   "id": "44ac7fa5",
   "metadata": {},
   "outputs": [],
   "source": [
    "x1=np.array(ar)\n",
    "x2=np.array(br)"
   ]
  },
  {
   "cell_type": "code",
   "execution_count": 19,
   "id": "f0391e97",
   "metadata": {},
   "outputs": [
    {
     "data": {
      "text/plain": [
       "array([[ 4],\n",
       "       [ 6],\n",
       "       [ 8],\n",
       "       [11]])"
      ]
     },
     "execution_count": 19,
     "metadata": {},
     "output_type": "execute_result"
    }
   ],
   "source": [
    "np.add(x1,x2)"
   ]
  },
  {
   "cell_type": "code",
   "execution_count": 23,
   "id": "7d75cfa8",
   "metadata": {},
   "outputs": [
    {
     "data": {
      "text/plain": [
       "array([[ 6],\n",
       "       [ 8],\n",
       "       [10],\n",
       "       [14]])"
      ]
     },
     "execution_count": 23,
     "metadata": {},
     "output_type": "execute_result"
    }
   ],
   "source": [
    "alpha=2\n",
    "x2*alpha"
   ]
  },
  {
   "cell_type": "code",
   "execution_count": 25,
   "id": "84a1850b",
   "metadata": {},
   "outputs": [
    {
     "data": {
      "text/plain": [
       "array([[ 6],\n",
       "       [ 8],\n",
       "       [10],\n",
       "       [14]])"
      ]
     },
     "execution_count": 25,
     "metadata": {},
     "output_type": "execute_result"
    }
   ],
   "source": [
    "#multiply function\n",
    "np.multiply(alpha,x2)"
   ]
  },
  {
   "cell_type": "code",
   "execution_count": 29,
   "id": "82b20b08",
   "metadata": {},
   "outputs": [
    {
     "data": {
      "text/plain": [
       "array([[16],\n",
       "       [21]])"
      ]
     },
     "execution_count": 29,
     "metadata": {},
     "output_type": "execute_result"
    }
   ],
   "source": [
    "a,b=2,3\n",
    "x, y=np.array([[2],[3]]),np.array([[4],[5]])\n",
    "np.add(np.multiply(a,x),np.multiply(b,y))"
   ]
  },
  {
   "cell_type": "code",
   "execution_count": 30,
   "id": "5491c4f9",
   "metadata": {},
   "outputs": [
    {
     "data": {
      "text/plain": [
       "array([[23]])"
      ]
     },
     "execution_count": 30,
     "metadata": {},
     "output_type": "execute_result"
    }
   ],
   "source": [
    "x.T@y   #dot product "
   ]
  },
  {
   "cell_type": "code",
   "execution_count": 32,
   "id": "79dc0563",
   "metadata": {},
   "outputs": [
    {
     "data": {
      "text/plain": [
       "5.0"
      ]
     },
     "execution_count": 32,
     "metadata": {},
     "output_type": "execute_result"
    }
   ],
   "source": [
    "#euclidean norm (l2)\n",
    "x = np.array([[3],[4]])\n",
    "np.linalg.norm(x,2)"
   ]
  },
  {
   "cell_type": "code",
   "execution_count": 34,
   "id": "3e5f0547",
   "metadata": {},
   "outputs": [
    {
     "data": {
      "text/plain": [
       "7.0"
      ]
     },
     "execution_count": 34,
     "metadata": {},
     "output_type": "execute_result"
    }
   ],
   "source": [
    "#manhattan norm (l1)\n",
    "x = np.array([[3],[-4]])\n",
    "np.linalg.norm(x,1)"
   ]
  },
  {
   "cell_type": "code",
   "execution_count": 37,
   "id": "f5d9bff8",
   "metadata": {},
   "outputs": [
    {
     "data": {
      "text/plain": [
       "4.0"
      ]
     },
     "execution_count": 37,
     "metadata": {},
     "output_type": "execute_result"
    }
   ],
   "source": [
    "#max norm or infinity norm \n",
    "x=np.array([[2],[4]])\n",
    "np.linalg.norm(x, np.inf)"
   ]
  },
  {
   "cell_type": "code",
   "execution_count": 38,
   "id": "4e1c79ed",
   "metadata": {},
   "outputs": [
    {
     "data": {
      "text/plain": [
       "2.23606797749979"
      ]
     },
     "execution_count": 38,
     "metadata": {},
     "output_type": "execute_result"
    }
   ],
   "source": [
    "np.linalg.norm(x-y,2)"
   ]
  },
  {
   "cell_type": "code",
   "execution_count": 46,
   "id": "3d477f26",
   "metadata": {},
   "outputs": [
    {
     "name": "stdout",
     "output_type": "stream",
     "text": [
      "[[0.97780241]]\n"
     ]
    },
    {
     "data": {
      "text/plain": [
       "array([[0.978]])"
      ]
     },
     "execution_count": 46,
     "metadata": {},
     "output_type": "execute_result"
    }
   ],
   "source": [
    "#angles()\n",
    "cos_theta = (x.T@y)/ (np.linalg.norm(x,2) * (np.linalg.norm(y,2)))\n",
    "print(cos_theta)\n",
    "np.round(cos_theta,3)"
   ]
  },
  {
   "cell_type": "code",
   "execution_count": 48,
   "id": "361ceb9f",
   "metadata": {},
   "outputs": [
    {
     "name": "stdout",
     "output_type": "stream",
     "text": [
      "[[0.21109333]]\n"
     ]
    }
   ],
   "source": [
    "cos_inverse = np.arccos(cos_theta)\n",
    "print(cos_inverse)"
   ]
  },
  {
   "cell_type": "code",
   "execution_count": 50,
   "id": "d3074cab",
   "metadata": {},
   "outputs": [
    {
     "data": {
      "text/plain": [
       "array([[12.09475708]])"
      ]
     },
     "execution_count": 50,
     "metadata": {},
     "output_type": "execute_result"
    }
   ],
   "source": [
    "degree = cos_inverse *((180)/np.pi)\n",
    "degree"
   ]
  },
  {
   "cell_type": "code",
   "execution_count": 51,
   "id": "4b00fd6c",
   "metadata": {},
   "outputs": [],
   "source": [
    "x, y = np.array([[2],[0]]), np.array([[0],[2]])"
   ]
  },
  {
   "cell_type": "code",
   "execution_count": 53,
   "id": "0bbc6291",
   "metadata": {},
   "outputs": [
    {
     "data": {
      "text/plain": [
       "array([[0.]])"
      ]
     },
     "execution_count": 53,
     "metadata": {},
     "output_type": "execute_result"
    }
   ],
   "source": [
    "cos_theta = (x.T@y)/ (np.linalg.norm(x,2) * np.linalg.norm(y,2))\n",
    "cos_theta"
   ]
  },
  {
   "cell_type": "code",
   "execution_count": 56,
   "id": "f36830d1",
   "metadata": {},
   "outputs": [
    {
     "data": {
      "text/plain": [
       "array([[90.]])"
      ]
     },
     "execution_count": 56,
     "metadata": {},
     "output_type": "execute_result"
    }
   ],
   "source": [
    "cos_inverse= np.arccos(cos_theta)\n",
    "theta=cos_inverse * ((180)/np.pi)\n",
    "theta"
   ]
  }
 ],
 "metadata": {
  "kernelspec": {
   "display_name": "Python 3 (ipykernel)",
   "language": "python",
   "name": "python3"
  },
  "language_info": {
   "codemirror_mode": {
    "name": "ipython",
    "version": 3
   },
   "file_extension": ".py",
   "mimetype": "text/x-python",
   "name": "python",
   "nbconvert_exporter": "python",
   "pygments_lexer": "ipython3",
   "version": "3.11.5"
  }
 },
 "nbformat": 4,
 "nbformat_minor": 5
}
